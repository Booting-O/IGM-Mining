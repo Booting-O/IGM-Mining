{
 "cells": [
  {
   "cell_type": "code",
   "execution_count": 2,
   "metadata": {},
   "outputs": [],
   "source": [
    "from scipy.io import loadmat                                                                            \n",
    "import matplotlib.pyplot as plt\n",
    "import numpy as np\n",
    "M = loadmat(\"dla_match_table.mat\")     "
   ]
  },
  {
   "cell_type": "code",
   "execution_count": 3,
   "metadata": {},
   "outputs": [],
   "source": [
    "from astropy.table import Table\n",
    "t = Table([M['ra_dla'], M['dec_dla'], M['log_posteriors_dla'], M['log_posteriors_no_dla']], \n",
    "          names=('ra_dla', 'dec_dla', 'log_posteriors_dla', 'log_posteriors_no_dla'))\n",
    "t.write('dla_match_table.fits', format='fits', overwrite=True)"
   ]
  }
 ],
 "metadata": {
  "kernelspec": {
   "display_name": "Python 3",
   "language": "python",
   "name": "python3"
  },
  "language_info": {
   "codemirror_mode": {
    "name": "ipython",
    "version": 3
   },
   "file_extension": ".py",
   "mimetype": "text/x-python",
   "name": "python",
   "nbconvert_exporter": "python",
   "pygments_lexer": "ipython3",
   "version": "3.8.3"
  }
 },
 "nbformat": 4,
 "nbformat_minor": 4
}
