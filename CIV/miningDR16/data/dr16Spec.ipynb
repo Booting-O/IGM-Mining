{
 "cells": [
  {
   "cell_type": "code",
   "execution_count": 13,
   "metadata": {},
   "outputs": [],
   "source": [
    "import numpy as np\n",
    "from astropy.io import fits\n",
    "import matplotlib.pyplot as plt\n",
    "hdul = fits.open('DR16Q_v4.fits')"
   ]
  },
  {
   "cell_type": "code",
   "execution_count": 14,
   "metadata": {},
   "outputs": [],
   "source": [
    "dr16q = hdul[1].data"
   ]
  },
  {
   "cell_type": "code",
   "execution_count": 15,
   "metadata": {},
   "outputs": [],
   "source": [
    "thingID = dr16q['THING_ID']\n",
    "zQSO = dr16q['Z_VI']\n",
    "BAL_prob = dr16q['BAL_PROB']"
   ]
  },
  {
   "cell_type": "code",
   "execution_count": 16,
   "metadata": {},
   "outputs": [],
   "source": [
    "maskCoverage = (1310*(1+zQSO)<3650) | (1548*(1+zQSO)>10400) \n",
    "\n",
    "maskZ = (zQSO<1.7)\n",
    "\n",
    "dr16q_good = dr16q[(BAL_prob<0.5) & (~maskCoverage) & (~maskZ)]\n",
    "mjds = dr16q_good['MJD']\n",
    "plates = dr16q_good['PLATE']\n",
    "fiber_ids = dr16q_good['FIBERID']"
   ]
  },
  {
   "cell_type": "code",
   "execution_count": 20,
   "metadata": {},
   "outputs": [],
   "source": [
    "with open(r\"spectra/dr16pecList\", \"w\") as fid:\n",
    "    for i in range(len(fiber_ids)):\n",
    "        \n",
    "        url = \"https://data.sdss.org/sas/dr16/eboss/spectro/redux/{}/spectra/lite/{:d}/spec-{:d}-{:d}-{:04d}.fits\".format(\"v5_13_0\", \n",
    "                plates[i],\n",
    "                plates[i],\n",
    "                mjds[i],\n",
    "                fiber_ids[i])\n",
    "        fid.write(url)"
   ]
  },
  {
   "cell_type": "code",
   "execution_count": 21,
   "metadata": {},
   "outputs": [
    {
     "data": {
      "text/plain": [
       "159286"
      ]
     },
     "execution_count": 21,
     "metadata": {},
     "output_type": "execute_result"
    }
   ],
   "source": [
    "len(mjds)"
   ]
  }
 ],
 "metadata": {
  "kernelspec": {
   "display_name": "Python 3 (ipykernel)",
   "language": "python",
   "name": "python3"
  },
  "language_info": {
   "codemirror_mode": {
    "name": "ipython",
    "version": 3
   },
   "file_extension": ".py",
   "mimetype": "text/x-python",
   "name": "python",
   "nbconvert_exporter": "python",
   "pygments_lexer": "ipython3",
   "version": "3.9.13"
  }
 },
 "nbformat": 4,
 "nbformat_minor": 4
}
