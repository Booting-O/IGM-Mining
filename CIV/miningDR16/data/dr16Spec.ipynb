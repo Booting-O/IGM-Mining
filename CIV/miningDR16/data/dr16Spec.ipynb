{
 "cells": [
  {
   "cell_type": "code",
   "execution_count": 1,
   "metadata": {},
   "outputs": [],
   "source": [
    "import numpy as np\n",
    "from astropy.io import fits\n",
    "import matplotlib.pyplot as plt\n",
    "hdul = fits.open('DR16Q_v4.fits')"
   ]
  },
  {
   "cell_type": "code",
   "execution_count": 2,
   "metadata": {},
   "outputs": [],
   "source": [
    "dr16q = hdul[1].data"
   ]
  },
  {
   "cell_type": "code",
   "execution_count": 3,
   "metadata": {},
   "outputs": [],
   "source": [
    "# thingID = dr16q['THING_ID']\n",
    "# zQSO = dr16q['Z_VI']\n",
    "# BAL_prob = dr16q['BAL_PROB']"
   ]
  },
  {
   "cell_type": "code",
   "execution_count": 4,
   "metadata": {},
   "outputs": [],
   "source": [
    "# maskCoverage = (1310*(1+zQSO)<3650) | (1548*(1+zQSO)>10400) \n",
    "\n",
    "# maskZ = (zQSO<1.7)\n",
    "\n",
    "# dr16q_good = dr16q[(BAL_prob<0.5) & (~maskCoverage) & (~maskZ)]\n",
    "mjds = dr16q['MJD']\n",
    "plates = dr16q['PLATE']\n",
    "fiber_ids = dr16q['FIBERID']"
   ]
  },
  {
   "cell_type": "code",
   "execution_count": 5,
   "metadata": {},
   "outputs": [],
   "source": [
    "with open(r\"dr16Spec.list\", \"w\") as fid:\n",
    "    for i in range(len(fiber_ids)):\n",
    "        \n",
    "        url = \"https://data.sdss.org/sas/dr16/eboss/spectro/redux/{}/spectra/lite/{:d}/spec-{:d}-{:d}-{:04d}.fits\\n\".format(\"v5_13_0\", \n",
    "                plates[i],\n",
    "                plates[i],\n",
    "                mjds[i],\n",
    "                fiber_ids[i])\n",
    "        fid.write(url)"
   ]
  }
 ],
 "metadata": {
  "kernelspec": {
   "display_name": "Python 3 (ipykernel)",
   "language": "python",
   "name": "python3"
  },
  "language_info": {
   "codemirror_mode": {
    "name": "ipython",
    "version": 3
   },
   "file_extension": ".py",
   "mimetype": "text/x-python",
   "name": "python",
   "nbconvert_exporter": "python",
   "pygments_lexer": "ipython3",
   "version": "3.12.4"
  }
 },
 "nbformat": 4,
 "nbformat_minor": 4
}
