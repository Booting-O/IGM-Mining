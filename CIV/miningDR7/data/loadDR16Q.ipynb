{
 "cells": [
  {
   "cell_type": "code",
   "execution_count": 9,
   "id": "a443d92c-7377-4384-9349-7adb3e40cee8",
   "metadata": {},
   "outputs": [],
   "source": [
    "from astropy.table import Table\n",
    "import matplotlib.pyplot as plt\n",
    "import numpy as np"
   ]
  },
  {
   "cell_type": "code",
   "execution_count": 2,
   "id": "77aeb74b-4962-406f-80c5-749c71f25075",
   "metadata": {},
   "outputs": [],
   "source": [
    "t = Table.read('matchDR7-DR16.fits', hdu=1)"
   ]
  },
  {
   "cell_type": "code",
   "execution_count": 3,
   "id": "d57d8727-bdbd-4bff-8918-4b2438df7633",
   "metadata": {},
   "outputs": [],
   "source": [
    "BI = t['BI_CIV']"
   ]
  },
  {
   "cell_type": "code",
   "execution_count": 22,
   "id": "afa57a4f-cfea-4413-a79d-91be11530e1a",
   "metadata": {},
   "outputs": [
    {
     "data": {
      "text/plain": [
       "(array([2.5661e+04, 7.5000e+01, 5.6000e+01, 3.1000e+01, 2.6000e+01,\n",
       "        2.6000e+01, 1.7000e+01, 1.6000e+01, 1.2000e+01, 1.1000e+01,\n",
       "        1.1000e+01, 5.0000e+00, 8.0000e+00, 3.0000e+00, 2.0000e+00,\n",
       "        2.0000e+00, 3.0000e+00, 3.0000e+00, 3.0000e+00, 2.0000e+00,\n",
       "        3.0000e+00, 0.0000e+00, 1.0000e+00, 1.0000e+00, 3.0000e+00,\n",
       "        1.0000e+00, 0.0000e+00, 1.0000e+00, 1.0000e+00, 1.0000e+00,\n",
       "        1.0000e+00, 0.0000e+00, 0.0000e+00, 0.0000e+00, 1.0000e+00,\n",
       "        1.0000e+00, 0.0000e+00, 2.0000e+00, 0.0000e+00, 0.0000e+00,\n",
       "        0.0000e+00, 0.0000e+00, 0.0000e+00, 0.0000e+00, 0.0000e+00,\n",
       "        0.0000e+00, 0.0000e+00, 0.0000e+00, 0.0000e+00, 0.0000e+00,\n",
       "        0.0000e+00, 0.0000e+00, 0.0000e+00, 0.0000e+00, 0.0000e+00,\n",
       "        0.0000e+00, 0.0000e+00, 0.0000e+00, 0.0000e+00, 0.0000e+00,\n",
       "        0.0000e+00, 1.0000e+00, 0.0000e+00, 0.0000e+00, 0.0000e+00,\n",
       "        0.0000e+00, 0.0000e+00, 0.0000e+00, 0.0000e+00, 0.0000e+00,\n",
       "        0.0000e+00, 0.0000e+00, 0.0000e+00, 0.0000e+00, 0.0000e+00,\n",
       "        0.0000e+00, 0.0000e+00, 0.0000e+00, 0.0000e+00, 0.0000e+00,\n",
       "        0.0000e+00, 0.0000e+00, 0.0000e+00, 0.0000e+00, 0.0000e+00,\n",
       "        0.0000e+00, 0.0000e+00, 0.0000e+00, 0.0000e+00, 0.0000e+00,\n",
       "        0.0000e+00, 0.0000e+00, 0.0000e+00, 1.0000e+00, 0.0000e+00,\n",
       "        0.0000e+00, 0.0000e+00, 0.0000e+00, 0.0000e+00, 1.0000e+00]),\n",
       " array([-1.00000000e+00,  1.21715029e+02,  2.44430059e+02,  3.67145088e+02,\n",
       "         4.89860117e+02,  6.12575146e+02,  7.35290176e+02,  8.58005205e+02,\n",
       "         9.80720234e+02,  1.10343526e+03,  1.22615029e+03,  1.34886532e+03,\n",
       "         1.47158035e+03,  1.59429538e+03,  1.71701041e+03,  1.83972544e+03,\n",
       "         1.96244047e+03,  2.08515550e+03,  2.20787053e+03,  2.33058556e+03,\n",
       "         2.45330059e+03,  2.57601562e+03,  2.69873064e+03,  2.82144567e+03,\n",
       "         2.94416070e+03,  3.06687573e+03,  3.18959076e+03,  3.31230579e+03,\n",
       "         3.43502082e+03,  3.55773585e+03,  3.68045088e+03,  3.80316591e+03,\n",
       "         3.92588094e+03,  4.04859597e+03,  4.17131100e+03,  4.29402603e+03,\n",
       "         4.41674105e+03,  4.53945608e+03,  4.66217111e+03,  4.78488614e+03,\n",
       "         4.90760117e+03,  5.03031620e+03,  5.15303123e+03,  5.27574626e+03,\n",
       "         5.39846129e+03,  5.52117632e+03,  5.64389135e+03,  5.76660638e+03,\n",
       "         5.88932141e+03,  6.01203644e+03,  6.13475146e+03,  6.25746649e+03,\n",
       "         6.38018152e+03,  6.50289655e+03,  6.62561158e+03,  6.74832661e+03,\n",
       "         6.87104164e+03,  6.99375667e+03,  7.11647170e+03,  7.23918673e+03,\n",
       "         7.36190176e+03,  7.48461679e+03,  7.60733182e+03,  7.73004685e+03,\n",
       "         7.85276188e+03,  7.97547690e+03,  8.09819193e+03,  8.22090696e+03,\n",
       "         8.34362199e+03,  8.46633702e+03,  8.58905205e+03,  8.71176708e+03,\n",
       "         8.83448211e+03,  8.95719714e+03,  9.07991217e+03,  9.20262720e+03,\n",
       "         9.32534223e+03,  9.44805726e+03,  9.57077229e+03,  9.69348731e+03,\n",
       "         9.81620234e+03,  9.93891737e+03,  1.00616324e+04,  1.01843474e+04,\n",
       "         1.03070625e+04,  1.04297775e+04,  1.05524925e+04,  1.06752075e+04,\n",
       "         1.07979226e+04,  1.09206376e+04,  1.10433526e+04,  1.11660677e+04,\n",
       "         1.12887827e+04,  1.14114977e+04,  1.15342128e+04,  1.16569278e+04,\n",
       "         1.17796428e+04,  1.19023578e+04,  1.20250729e+04,  1.21477879e+04,\n",
       "         1.22705029e+04]),\n",
       " <BarContainer object of 100 artists>)"
      ]
     },
     "execution_count": 22,
     "metadata": {},
     "output_type": "execute_result"
    },
    {
     "data": {
      "image/png": "[encoded data removed]",
      "text/plain": [
       "<Figure size 640x480 with 1 Axes>"
      ]
     },
     "metadata": {},
     "output_type": "display_data"
    }
   ],
   "source": [
    "plt.hist(BI, bins=100)\n",
    "# plt.show()"
   ]
  },
  {
   "cell_type": "code",
   "execution_count": 21,
   "id": "07837a21-645a-46f7-afcb-cf42a8c591e0",
   "metadata": {},
   "outputs": [
    {
     "data": {
      "text/plain": [
       "271"
      ]
     },
     "execution_count": 21,
     "metadata": {},
     "output_type": "execute_result"
    }
   ],
   "source": [
    "np.sum(BI>200)\n"
   ]
  },
  {
   "cell_type": "code",
   "execution_count": 2,
   "id": "5d5a4e29-7d95-47bb-b077-9812b2c8ec1b",
   "metadata": {},
   "outputs": [],
   "source": [
    "t = Table.read('DR16Q_v4.fits', hdu=1)"
   ]
  },
  {
   "cell_type": "code",
   "execution_count": 3,
   "id": "fff202f2-9b4c-4875-b712-a2f4f162dc74",
   "metadata": {},
   "outputs": [
    {
     "name": "stderr",
     "output_type": "stream",
     "text": [
      "WARNING: UnitsWarning: '-' did not parse as fits unit: Invalid character at col 0 If this is meant to be a custom unit, define it with 'u.def_unit'. To have it recognized inside a file reader or other code, enable it with 'u.add_enabled_units'. For details, see https://docs.astropy.org/en/latest/units/combining_and_defining.html [astropy.units.core]\n",
      "WARNING: UnitsWarning: '0.1nm' did not parse as fits unit: Numeric factor not supported by FITS If this is meant to be a custom unit, define it with 'u.def_unit'. To have it recognized inside a file reader or other code, enable it with 'u.add_enabled_units'. For details, see https://docs.astropy.org/en/latest/units/combining_and_defining.html [astropy.units.core]\n",
      "WARNING: UnitsWarning: 'nanomaggies' did not parse as fits unit: At col 0, Unit 'nanomaggies' not supported by the FITS standard.  If this is meant to be a custom unit, define it with 'u.def_unit'. To have it recognized inside a file reader or other code, enable it with 'u.add_enabled_units'. For details, see https://docs.astropy.org/en/latest/units/combining_and_defining.html [astropy.units.core]\n",
      "WARNING: UnitsWarning: 'counts s-1' did not parse as fits unit: At col 0, Unit 'counts' not supported by the FITS standard. Did you mean count? If this is meant to be a custom unit, define it with 'u.def_unit'. To have it recognized inside a file reader or other code, enable it with 'u.add_enabled_units'. For details, see https://docs.astropy.org/en/latest/units/combining_and_defining.html [astropy.units.core]\n",
      "WARNING: UnitsWarning: 'nanomaggies-2' did not parse as fits unit: At col 0, Unit 'nanomaggies' not supported by the FITS standard.  If this is meant to be a custom unit, define it with 'u.def_unit'. To have it recognized inside a file reader or other code, enable it with 'u.add_enabled_units'. For details, see https://docs.astropy.org/en/latest/units/combining_and_defining.html [astropy.units.core]\n",
      "WARNING: UnitsWarning: 'mag Vega' did not parse as fits unit: At col 4, Unit 'Vega' not supported by the FITS standard.  If this is meant to be a custom unit, define it with 'u.def_unit'. To have it recognized inside a file reader or other code, enable it with 'u.add_enabled_units'. For details, see https://docs.astropy.org/en/latest/units/combining_and_defining.html [astropy.units.core]\n"
     ]
    }
   ],
   "source": [
    "t = Table.read('data/dr12/distfiles/dr12q_good.fits', hdu=1)"
   ]
  },
  {
   "cell_type": "code",
   "execution_count": 4,
   "id": "da490c55-1a92-4971-818d-90c751b5fab1",
   "metadata": {},
   "outputs": [],
   "source": [
    "Z = t['Z_VI']"
   ]
  },
  {
   "cell_type": "code",
   "execution_count": 8,
   "id": "db0aa57b-3023-4b68-b0cd-6ab99813b6cf",
   "metadata": {},
   "outputs": [
    {
     "data": {
      "text/plain": [
       "185541"
      ]
     },
     "execution_count": 8,
     "metadata": {},
     "output_type": "execute_result"
    }
   ],
   "source": [
    "min(Z)\n",
    "len(Z)"
   ]
  },
  {
   "cell_type": "code",
   "execution_count": 4,
   "id": "defa1971-1759-40f2-8a28-81b881de5000",
   "metadata": {},
   "outputs": [],
   "source": []
  },
  {
   "cell_type": "code",
   "execution_count": null,
   "id": "9ede1869-2d1b-4e1e-b16c-0d876307ef0c",
   "metadata": {},
   "outputs": [],
   "source": []
  },
  {
   "cell_type": "code",
   "execution_count": 5,
   "id": "c26f94db-370d-403a-a3ea-b2d2c64ede71",
   "metadata": {},
   "outputs": [
    {
     "data": {
      "image/png": "[encoded data removed]",
      "text/plain": [
       "<Figure size 640x480 with 1 Axes>"
      ]
     },
     "metadata": {},
     "output_type": "display_data"
    }
   ],
   "source": [
    "plt.hist(Z[Z>0])\n",
    "plt.show()"
   ]
  },
  {
   "cell_type": "code",
   "execution_count": 79,
   "id": "efe570d2-5d96-48b2-96cc-df2d5622ae78",
   "metadata": {},
   "outputs": [],
   "source": [
    "import numpy as np"
   ]
  },
  {
   "cell_type": "code",
   "execution_count": 87,
   "id": "cf45da11-57a0-466f-9dc3-41ef3906e661",
   "metadata": {},
   "outputs": [],
   "source": [
    "balP = t['BAL_PROB']"
   ]
  },
  {
   "cell_type": "code",
   "execution_count": 98,
   "id": "048d54bd-2385-4423-91e5-b1526fd569b7",
   "metadata": {},
   "outputs": [],
   "source": [
    "sn = t['SN_MEDIAN_ALL']"
   ]
  },
  {
   "cell_type": "code",
   "execution_count": 102,
   "id": "684f3f15-015f-480a-a8d3-dbba0181e558",
   "metadata": {},
   "outputs": [
    {
     "data": {
      "image/png": "[encoded data removed]",
      "text/plain": [
       "<Figure size 640x480 with 1 Axes>"
      ]
     },
     "metadata": {},
     "output_type": "display_data"
    }
   ],
   "source": [
    "plt.hist(sn[sn>0],100)\n",
    "plt.show()"
   ]
  },
  {
   "cell_type": "code",
   "execution_count": 122,
   "id": "5f8b377d-70b5-449e-a31d-0f798ac8d0ef",
   "metadata": {},
   "outputs": [
    {
     "data": {
      "text/plain": [
       "90293"
      ]
     },
     "execution_count": 122,
     "metadata": {},
     "output_type": "execute_result"
    }
   ],
   "source": [
    "np.sum((Z>1.7) & (balP<0.25) ) -185425"
   ]
  },
  {
   "cell_type": "code",
   "execution_count": 115,
   "id": "93500040-b081-466e-87bd-cc8556a320c2",
   "metadata": {},
   "outputs": [
    {
     "data": {
      "text/plain": [
       "0.5103156391005498"
      ]
     },
     "execution_count": 115,
     "metadata": {},
     "output_type": "execute_result"
    }
   ],
   "source": [
    "np.sum(sn<4)/len(sn)"
   ]
  },
  {
   "cell_type": "code",
   "execution_count": 123,
   "id": "a564ad86-77e2-4600-ba40-1c5c20b0c898",
   "metadata": {},
   "outputs": [
    {
     "data": {
      "text/plain": [
       "3.195544481277466"
      ]
     },
     "execution_count": 123,
     "metadata": {},
     "output_type": "execute_result"
    }
   ],
   "source": [
    "np.median(sn[(Z>1.7) & (balP<0.25)])"
   ]
  },
  {
   "cell_type": "code",
   "execution_count": 124,
   "id": "92061d11-89b5-4e0b-8e27-cfdc8d11a7b7",
   "metadata": {},
   "outputs": [
    {
     "data": {
      "text/plain": [
       "3.9137061834335327"
      ]
     },
     "execution_count": 124,
     "metadata": {},
     "output_type": "execute_result"
    }
   ],
   "source": [
    "np.median(sn)"
   ]
  },
  {
   "cell_type": "code",
   "execution_count": 121,
   "id": "0b743abb-08f6-4706-8319-199a23674056",
   "metadata": {},
   "outputs": [
    {
     "data": {
      "text/plain": [
       "2.268293857574463"
      ]
     },
     "execution_count": 121,
     "metadata": {},
     "output_type": "execute_result"
    }
   ],
   "source": [
    "np.quantile(sn, 0.25)"
   ]
  },
  {
   "cell_type": "code",
   "execution_count": null,
   "id": "b74409ae-f772-4a6c-a8ff-d8508ea090b8",
   "metadata": {},
   "outputs": [],
   "source": []
  }
 ],
 "metadata": {
  "kernelspec": {
   "display_name": "Python 3 (ipykernel)",
   "language": "python",
   "name": "python3"
  },
  "language_info": {
   "codemirror_mode": {
    "name": "ipython",
    "version": 3
   },
   "file_extension": ".py",
   "mimetype": "text/x-python",
   "name": "python",
   "nbconvert_exporter": "python",
   "pygments_lexer": "ipython3",
   "version": "3.9.13"
  }
 },
 "nbformat": 4,
 "nbformat_minor": 5
}
